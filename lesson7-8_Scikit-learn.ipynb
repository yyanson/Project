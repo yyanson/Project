{
 "cells": [
  {
   "cell_type": "markdown",
   "id": "a4ab20a3",
   "metadata": {},
   "source": [
    "### Тема “Обучение без учителя”"
   ]
  },
  {
   "cell_type": "markdown",
   "id": "00d25326",
   "metadata": {},
   "source": [
    "### Задание 1"
   ]
  },
  {
   "cell_type": "markdown",
   "id": "e17d222f",
   "metadata": {},
   "source": [
    "Импортируйте библиотеки pandas, numpy и matplotlib."
   ]
  },
  {
   "cell_type": "code",
   "execution_count": 1,
   "id": "0745a16d",
   "metadata": {},
   "outputs": [],
   "source": [
    "import numpy as np\n",
    "import pandas as pd\n",
    "import matplotlib\n",
    "import matplotlib.pyplot as plt"
   ]
  },
  {
   "cell_type": "markdown",
   "id": "41e1ad25",
   "metadata": {},
   "source": [
    "Загрузите \"Boston House Prices dataset\" из встроенных наборов данных библиотеки sklearn"
   ]
  },
  {
   "cell_type": "code",
   "execution_count": 2,
   "id": "d0a40efe",
   "metadata": {},
   "outputs": [],
   "source": [
    "from sklearn.datasets import load_boston"
   ]
  },
  {
   "cell_type": "code",
   "execution_count": 3,
   "id": "7b8ac964",
   "metadata": {},
   "outputs": [],
   "source": [
    "boston = load_boston()"
   ]
  },
  {
   "cell_type": "markdown",
   "id": "523145df",
   "metadata": {},
   "source": [
    "Создайте датафреймы X и y из этих данных"
   ]
  },
  {
   "cell_type": "code",
   "execution_count": 4,
   "id": "31d27ab6",
   "metadata": {},
   "outputs": [
    {
     "data": {
      "text/html": [
       "<div>\n",
       "<style scoped>\n",
       "    .dataframe tbody tr th:only-of-type {\n",
       "        vertical-align: middle;\n",
       "    }\n",
       "\n",
       "    .dataframe tbody tr th {\n",
       "        vertical-align: top;\n",
       "    }\n",
       "\n",
       "    .dataframe thead th {\n",
       "        text-align: right;\n",
       "    }\n",
       "</style>\n",
       "<table border=\"1\" class=\"dataframe\">\n",
       "  <thead>\n",
       "    <tr style=\"text-align: right;\">\n",
       "      <th></th>\n",
       "      <th>CRIM</th>\n",
       "      <th>ZN</th>\n",
       "      <th>INDUS</th>\n",
       "      <th>CHAS</th>\n",
       "      <th>NOX</th>\n",
       "      <th>RM</th>\n",
       "      <th>AGE</th>\n",
       "      <th>DIS</th>\n",
       "      <th>RAD</th>\n",
       "      <th>TAX</th>\n",
       "      <th>PTRATIO</th>\n",
       "      <th>B</th>\n",
       "      <th>LSTAT</th>\n",
       "    </tr>\n",
       "  </thead>\n",
       "  <tbody>\n",
       "    <tr>\n",
       "      <th>0</th>\n",
       "      <td>0.00632</td>\n",
       "      <td>18.0</td>\n",
       "      <td>2.31</td>\n",
       "      <td>0.0</td>\n",
       "      <td>0.538</td>\n",
       "      <td>6.575</td>\n",
       "      <td>65.2</td>\n",
       "      <td>4.0900</td>\n",
       "      <td>1.0</td>\n",
       "      <td>296.0</td>\n",
       "      <td>15.3</td>\n",
       "      <td>396.90</td>\n",
       "      <td>4.98</td>\n",
       "    </tr>\n",
       "    <tr>\n",
       "      <th>1</th>\n",
       "      <td>0.02731</td>\n",
       "      <td>0.0</td>\n",
       "      <td>7.07</td>\n",
       "      <td>0.0</td>\n",
       "      <td>0.469</td>\n",
       "      <td>6.421</td>\n",
       "      <td>78.9</td>\n",
       "      <td>4.9671</td>\n",
       "      <td>2.0</td>\n",
       "      <td>242.0</td>\n",
       "      <td>17.8</td>\n",
       "      <td>396.90</td>\n",
       "      <td>9.14</td>\n",
       "    </tr>\n",
       "    <tr>\n",
       "      <th>2</th>\n",
       "      <td>0.02729</td>\n",
       "      <td>0.0</td>\n",
       "      <td>7.07</td>\n",
       "      <td>0.0</td>\n",
       "      <td>0.469</td>\n",
       "      <td>7.185</td>\n",
       "      <td>61.1</td>\n",
       "      <td>4.9671</td>\n",
       "      <td>2.0</td>\n",
       "      <td>242.0</td>\n",
       "      <td>17.8</td>\n",
       "      <td>392.83</td>\n",
       "      <td>4.03</td>\n",
       "    </tr>\n",
       "    <tr>\n",
       "      <th>3</th>\n",
       "      <td>0.03237</td>\n",
       "      <td>0.0</td>\n",
       "      <td>2.18</td>\n",
       "      <td>0.0</td>\n",
       "      <td>0.458</td>\n",
       "      <td>6.998</td>\n",
       "      <td>45.8</td>\n",
       "      <td>6.0622</td>\n",
       "      <td>3.0</td>\n",
       "      <td>222.0</td>\n",
       "      <td>18.7</td>\n",
       "      <td>394.63</td>\n",
       "      <td>2.94</td>\n",
       "    </tr>\n",
       "    <tr>\n",
       "      <th>4</th>\n",
       "      <td>0.06905</td>\n",
       "      <td>0.0</td>\n",
       "      <td>2.18</td>\n",
       "      <td>0.0</td>\n",
       "      <td>0.458</td>\n",
       "      <td>7.147</td>\n",
       "      <td>54.2</td>\n",
       "      <td>6.0622</td>\n",
       "      <td>3.0</td>\n",
       "      <td>222.0</td>\n",
       "      <td>18.7</td>\n",
       "      <td>396.90</td>\n",
       "      <td>5.33</td>\n",
       "    </tr>\n",
       "  </tbody>\n",
       "</table>\n",
       "</div>"
      ],
      "text/plain": [
       "      CRIM    ZN  INDUS  CHAS    NOX     RM   AGE     DIS  RAD    TAX  \\\n",
       "0  0.00632  18.0   2.31   0.0  0.538  6.575  65.2  4.0900  1.0  296.0   \n",
       "1  0.02731   0.0   7.07   0.0  0.469  6.421  78.9  4.9671  2.0  242.0   \n",
       "2  0.02729   0.0   7.07   0.0  0.469  7.185  61.1  4.9671  2.0  242.0   \n",
       "3  0.03237   0.0   2.18   0.0  0.458  6.998  45.8  6.0622  3.0  222.0   \n",
       "4  0.06905   0.0   2.18   0.0  0.458  7.147  54.2  6.0622  3.0  222.0   \n",
       "\n",
       "   PTRATIO       B  LSTAT  \n",
       "0     15.3  396.90   4.98  \n",
       "1     17.8  396.90   9.14  \n",
       "2     17.8  392.83   4.03  \n",
       "3     18.7  394.63   2.94  \n",
       "4     18.7  396.90   5.33  "
      ]
     },
     "execution_count": 4,
     "metadata": {},
     "output_type": "execute_result"
    }
   ],
   "source": [
    "X = pd.DataFrame(boston[\"data\"], columns=boston[\"feature_names\"])\n",
    "\n",
    "X.head()"
   ]
  },
  {
   "cell_type": "code",
   "execution_count": 5,
   "id": "9bf43d28",
   "metadata": {},
   "outputs": [
    {
     "data": {
      "text/html": [
       "<div>\n",
       "<style scoped>\n",
       "    .dataframe tbody tr th:only-of-type {\n",
       "        vertical-align: middle;\n",
       "    }\n",
       "\n",
       "    .dataframe tbody tr th {\n",
       "        vertical-align: top;\n",
       "    }\n",
       "\n",
       "    .dataframe thead th {\n",
       "        text-align: right;\n",
       "    }\n",
       "</style>\n",
       "<table border=\"1\" class=\"dataframe\">\n",
       "  <thead>\n",
       "    <tr style=\"text-align: right;\">\n",
       "      <th></th>\n",
       "      <th>price</th>\n",
       "    </tr>\n",
       "  </thead>\n",
       "  <tbody>\n",
       "    <tr>\n",
       "      <th>0</th>\n",
       "      <td>24.0</td>\n",
       "    </tr>\n",
       "    <tr>\n",
       "      <th>1</th>\n",
       "      <td>21.6</td>\n",
       "    </tr>\n",
       "    <tr>\n",
       "      <th>2</th>\n",
       "      <td>34.7</td>\n",
       "    </tr>\n",
       "    <tr>\n",
       "      <th>3</th>\n",
       "      <td>33.4</td>\n",
       "    </tr>\n",
       "    <tr>\n",
       "      <th>4</th>\n",
       "      <td>36.2</td>\n",
       "    </tr>\n",
       "  </tbody>\n",
       "</table>\n",
       "</div>"
      ],
      "text/plain": [
       "   price\n",
       "0   24.0\n",
       "1   21.6\n",
       "2   34.7\n",
       "3   33.4\n",
       "4   36.2"
      ]
     },
     "execution_count": 5,
     "metadata": {},
     "output_type": "execute_result"
    }
   ],
   "source": [
    "y = pd.DataFrame(boston[\"target\"], columns=[\"price\"])\n",
    "\n",
    "y.head()"
   ]
  },
  {
   "cell_type": "markdown",
   "id": "406fa1c4",
   "metadata": {},
   "source": [
    "Разбейте эти датафреймы \n",
    "на тренировочные (X_train, y_train) и тестовые (X_test, y_test) с помощью функции train_test_split так, чтобы размер тестовой выборки составлял 20% от всех данных, при этом аргумент random_state должен быть равен 42."
   ]
  },
  {
   "cell_type": "code",
   "execution_count": 6,
   "id": "17cd2efd",
   "metadata": {},
   "outputs": [],
   "source": [
    "from sklearn.model_selection import train_test_split"
   ]
  },
  {
   "cell_type": "code",
   "execution_count": 7,
   "id": "a6cce456",
   "metadata": {},
   "outputs": [],
   "source": [
    "X_train, X_test, y_train, y_test = train_test_split(X, y, test_size=0.2, random_state=42)"
   ]
  },
  {
   "cell_type": "markdown",
   "id": "8c88f8e8",
   "metadata": {},
   "source": [
    "Масштабируйте данные с помощью StandardScaler."
   ]
  },
  {
   "cell_type": "code",
   "execution_count": 8,
   "id": "3aae209f",
   "metadata": {},
   "outputs": [],
   "source": [
    "from sklearn.preprocessing import StandardScaler\n",
    "\n",
    "scaler = StandardScaler()"
   ]
  },
  {
   "cell_type": "code",
   "execution_count": 9,
   "id": "334f59a8",
   "metadata": {},
   "outputs": [],
   "source": [
    "feature_names = boston[\"feature_names\"]"
   ]
  },
  {
   "cell_type": "code",
   "execution_count": 10,
   "id": "d29396c9",
   "metadata": {},
   "outputs": [],
   "source": [
    "X_train_scaled = scaler.fit_transform(X_train)\n",
    "X_train_scaled = pd.DataFrame(X_train_scaled, columns = feature_names)"
   ]
  },
  {
   "cell_type": "code",
   "execution_count": 11,
   "id": "3349902d",
   "metadata": {},
   "outputs": [],
   "source": [
    "X_test_scaled = scaler.fit_transform(X_test)\n",
    "X_test_scaled = pd.DataFrame(X_test_scaled, columns=feature_names)"
   ]
  },
  {
   "cell_type": "markdown",
   "id": "577709d1",
   "metadata": {},
   "source": [
    "Постройте модель TSNE на тренировочный данных с параметрами:\n",
    "n_components=2, learning_rate=250, random_state=42."
   ]
  },
  {
   "cell_type": "code",
   "execution_count": 12,
   "id": "83edeff1",
   "metadata": {},
   "outputs": [
    {
     "name": "stdout",
     "output_type": "stream",
     "text": [
      "До:\t(404, 13)\n",
      "После:\t(404, 2)\n"
     ]
    }
   ],
   "source": [
    "from sklearn.manifold import TSNE\n",
    "\n",
    "tsne = TSNE(n_components=2, learning_rate=250, random_state=42)\n",
    "X_train_tsne = tsne.fit_transform(X_train_scaled)\n",
    "\n",
    "print('До:\\t{}'.format(X_train_scaled.shape))\n",
    "print('После:\\t{}'.format(X_train_tsne.shape))\n"
   ]
  },
  {
   "cell_type": "markdown",
   "id": "d338424f",
   "metadata": {},
   "source": [
    "Постройте диаграмму рассеяния на этих данных"
   ]
  },
  {
   "cell_type": "code",
   "execution_count": 13,
   "id": "f0209aae",
   "metadata": {},
   "outputs": [
    {
     "data": {
      "image/png": "[encoded data removed]",
      "text/plain": [
       "<Figure size 432x288 with 1 Axes>"
      ]
     },
     "metadata": {
      "needs_background": "light"
     },
     "output_type": "display_data"
    }
   ],
   "source": [
    "plt.scatter(X_train_tsne[:, 0], X_train_tsne[:, 1])\n",
    "plt.show()"
   ]
  },
  {
   "cell_type": "markdown",
   "id": "a409f8ce",
   "metadata": {},
   "source": [
    "### Задание 2"
   ]
  },
  {
   "cell_type": "markdown",
   "id": "bb935d5b",
   "metadata": {},
   "source": [
    "С помощью KMeans разбейте данные из тренировочного набора на 3 кластера, \n",
    "используйте все признаки из датафрейма X_train.\n",
    "Параметр max_iter должен быть равен 100, random_state сделайте равным 42."
   ]
  },
  {
   "cell_type": "code",
   "execution_count": 14,
   "id": "c221134b",
   "metadata": {},
   "outputs": [
    {
     "data": {
      "text/plain": [
       "KMeans(max_iter=100, n_clusters=3, random_state=42)"
      ]
     },
     "execution_count": 14,
     "metadata": {},
     "output_type": "execute_result"
    }
   ],
   "source": [
    "from sklearn.cluster import KMeans\n",
    "\n",
    "model = KMeans(n_clusters=3, max_iter=100, random_state=42)\n",
    "model.fit(X_train)"
   ]
  },
  {
   "cell_type": "markdown",
   "id": "3bd1d517",
   "metadata": {},
   "source": [
    "Постройте еще раз диаграмму рассеяния на данных, полученных с помощью TSNE,\n",
    "и раскрасьте точки из разных кластеров разными цветами."
   ]
  },
  {
   "cell_type": "code",
   "execution_count": 16,
   "id": "953713f9",
   "metadata": {},
   "outputs": [],
   "source": [
    "X_train_scaled = scaler.fit_transform(X_train)\n",
    "X_train_scaled = pd.DataFrame(X_train_scaled, columns = feature_names)"
   ]
  },
  {
   "cell_type": "code",
   "execution_count": 17,
   "id": "a8a05aee",
   "metadata": {},
   "outputs": [],
   "source": [
    "tsne = TSNE(n_components=2, learning_rate=250, random_state=42)\n",
    "X_train_tsne = tsne.fit_transform(X_train_scaled)"
   ]
  },
  {
   "cell_type": "code",
   "execution_count": 18,
   "id": "6353a3ca",
   "metadata": {},
   "outputs": [],
   "source": [
    "train_labels_TSNE = model.fit_predict(X_train_tsne)"
   ]
  },
  {
   "cell_type": "code",
   "execution_count": 19,
   "id": "80662661",
   "metadata": {},
   "outputs": [
    {
     "data": {
      "image/png": "[encoded data removed]",
      "text/plain": [
       "<Figure size 432x288 with 1 Axes>"
      ]
     },
     "metadata": {
      "needs_background": "light"
     },
     "output_type": "display_data"
    }
   ],
   "source": [
    "plt.scatter(X_train_tsne[:, 0], X_train_tsne[:, 1],  c=train_labels_TSNE)\n",
    "plt.show()"
   ]
  },
  {
   "cell_type": "markdown",
   "id": "8b041d73",
   "metadata": {},
   "source": [
    "Вычислите средние значения price и CRIM в разных кластерах."
   ]
  },
  {
   "cell_type": "code",
   "execution_count": 20,
   "id": "04e63d7d",
   "metadata": {},
   "outputs": [
    {
     "data": {
      "text/plain": [
       "price    26.564706\n",
       "dtype: float64"
      ]
     },
     "execution_count": 20,
     "metadata": {},
     "output_type": "execute_result"
    }
   ],
   "source": [
    "y_train[train_labels_TSNE == 0].mean()"
   ]
  },
  {
   "cell_type": "code",
   "execution_count": 21,
   "id": "55127eeb",
   "metadata": {},
   "outputs": [
    {
     "data": {
      "text/plain": [
       "price    16.277228\n",
       "dtype: float64"
      ]
     },
     "execution_count": 21,
     "metadata": {},
     "output_type": "execute_result"
    }
   ],
   "source": [
    "y_train[train_labels_TSNE == 1].mean()"
   ]
  },
  {
   "cell_type": "code",
   "execution_count": 22,
   "id": "68c49ee7",
   "metadata": {},
   "outputs": [
    {
     "data": {
      "text/plain": [
       "price    23.670659\n",
       "dtype: float64"
      ]
     },
     "execution_count": 22,
     "metadata": {},
     "output_type": "execute_result"
    }
   ],
   "source": [
    "y_train[train_labels_TSNE == 2].mean()"
   ]
  },
  {
   "cell_type": "markdown",
   "id": "69152dfe",
   "metadata": {},
   "source": [
    "Посмотрим данные на графике:"
   ]
  },
  {
   "cell_type": "code",
   "execution_count": 23,
   "id": "550a85a6",
   "metadata": {},
   "outputs": [
    {
     "data": {
      "image/png": "[encoded data removed]",
      "text/plain": [
       "<Figure size 432x288 with 1 Axes>"
      ]
     },
     "metadata": {
      "needs_background": "light"
     },
     "output_type": "display_data"
    }
   ],
   "source": [
    "\n",
    "plt.hist(y_train[train_labels_TSNE == 0], bins=20, density=True, alpha=0.5)\n",
    "plt.hist(y_train[train_labels_TSNE == 1], bins=20, density=True, alpha=0.5)\n",
    "plt.hist(y_train[train_labels_TSNE == 2], bins=20, density=True, alpha=0.5)\n",
    "plt.legend(['Кластер 0', 'Кластер 1', 'Кластер 2' ])\n",
    "plt.xlabel('Цена')\n",
    "plt.show()"
   ]
  },
  {
   "cell_type": "markdown",
   "id": "983cc1a0",
   "metadata": {},
   "source": [
    "Посчитаем среднее CRIM в кластере с меткой \"0\" и посмотрим данные на графике:"
   ]
  },
  {
   "cell_type": "code",
   "execution_count": 24,
   "id": "3a9d31db",
   "metadata": {},
   "outputs": [
    {
     "data": {
      "text/plain": [
       "0.09462279411764711"
      ]
     },
     "execution_count": 24,
     "metadata": {},
     "output_type": "execute_result"
    }
   ],
   "source": [
    "X_train['CRIM'][train_labels_TSNE == 0].mean()"
   ]
  },
  {
   "cell_type": "code",
   "execution_count": 25,
   "id": "5be72de1",
   "metadata": {},
   "outputs": [
    {
     "data": {
      "image/png": "[encoded data removed]",
      "text/plain": [
       "<Figure size 432x288 with 1 Axes>"
      ]
     },
     "metadata": {
      "needs_background": "light"
     },
     "output_type": "display_data"
    }
   ],
   "source": [
    "a = plt.scatter(X_train_tsne[train_labels_TSNE==0, [0]], X_train_tsne[train_labels_TSNE==0, [1]])\n",
    "plt.show()"
   ]
  },
  {
   "cell_type": "markdown",
   "id": "493f84ed",
   "metadata": {},
   "source": [
    "На диаграме TSNE это был фиолетовый сектор, выберем для гистограммы пурпурный. (Так же выберем близкие цвета для других кластеров.) "
   ]
  },
  {
   "cell_type": "code",
   "execution_count": 26,
   "id": "5358d68c",
   "metadata": {},
   "outputs": [
    {
     "data": {
      "image/png": "[encoded data removed]",
      "text/plain": [
       "<Figure size 432x288 with 1 Axes>"
      ]
     },
     "metadata": {
      "needs_background": "light"
     },
     "output_type": "display_data"
    }
   ],
   "source": [
    "plt.hist(X_train['CRIM'][train_labels_TSNE == 0], bins=20, density=True, alpha=0.5, color='purple')\n",
    "plt.legend(['Кластер 0'])\n",
    "plt.xlabel('CRIM_0')\n",
    "plt.show()"
   ]
  },
  {
   "cell_type": "markdown",
   "id": "7448a07b",
   "metadata": {},
   "source": [
    "Посчитаем среднее CRIM в кластере с меткой \"1\" и посмотрим данные на графике:"
   ]
  },
  {
   "cell_type": "code",
   "execution_count": 29,
   "id": "f7ef42aa",
   "metadata": {},
   "outputs": [
    {
     "data": {
      "text/plain": [
       "13.17982178217822"
      ]
     },
     "execution_count": 29,
     "metadata": {},
     "output_type": "execute_result"
    }
   ],
   "source": [
    "X_train['CRIM'][train_labels_TSNE == 1].mean()"
   ]
  },
  {
   "cell_type": "code",
   "execution_count": 30,
   "id": "7bd6d662",
   "metadata": {},
   "outputs": [
    {
     "data": {
      "image/png": "[encoded data removed]",
      "text/plain": [
       "<Figure size 432x288 with 1 Axes>"
      ]
     },
     "metadata": {
      "needs_background": "light"
     },
     "output_type": "display_data"
    }
   ],
   "source": [
    "a = plt.scatter(X_train_tsne[train_labels_TSNE==1, [0]], X_train_tsne[train_labels_TSNE==1, [1]])\n",
    "plt.show()"
   ]
  },
  {
   "cell_type": "code",
   "execution_count": 31,
   "id": "b8ae1cca",
   "metadata": {},
   "outputs": [
    {
     "data": {
      "image/png": "[encoded data removed]",
      "text/plain": [
       "<Figure size 432x288 with 1 Axes>"
      ]
     },
     "metadata": {
      "needs_background": "light"
     },
     "output_type": "display_data"
    }
   ],
   "source": [
    "plt.hist(X_train['CRIM'][train_labels_TSNE == 1], bins=20, density=True, alpha=0.5, color='turquoise')\n",
    "plt.legend(['Кластер 1'])\n",
    "plt.xlabel('CRIM_1')\n",
    "plt.show()"
   ]
  },
  {
   "cell_type": "markdown",
   "id": "12d63e3f",
   "metadata": {},
   "source": [
    "Посчитаем среднее CRIM в кластере с меткой \"2\" и посмотрим данные на графике:"
   ]
  },
  {
   "cell_type": "code",
   "execution_count": 32,
   "id": "1ca25879",
   "metadata": {},
   "outputs": [
    {
     "data": {
      "text/plain": [
       "0.6829679640718564"
      ]
     },
     "execution_count": 32,
     "metadata": {},
     "output_type": "execute_result"
    }
   ],
   "source": [
    "X_train['CRIM'][train_labels_TSNE == 2].mean()"
   ]
  },
  {
   "cell_type": "code",
   "execution_count": 33,
   "id": "49f559a4",
   "metadata": {},
   "outputs": [
    {
     "data": {
      "image/png": "[encoded data removed]",
      "text/plain": [
       "<Figure size 432x288 with 1 Axes>"
      ]
     },
     "metadata": {
      "needs_background": "light"
     },
     "output_type": "display_data"
    }
   ],
   "source": [
    "plt.hist(X_train['CRIM'][train_labels_TSNE == 2], bins=20, density=True, alpha=0.5, color='yellow')\n",
    "plt.legend(['Кластер 2'])\n",
    "plt.xlabel('CRIM_2')\n",
    "plt.show()"
   ]
  },
  {
   "cell_type": "markdown",
   "id": "2478a903",
   "metadata": {},
   "source": [
    "### *Задание 3\n",
    "Примените модель KMeans, построенную в предыдущем задании,\n",
    "к данным из тестового набора."
   ]
  },
  {
   "cell_type": "code",
   "execution_count": 34,
   "id": "f9680ff0",
   "metadata": {},
   "outputs": [
    {
     "data": {
      "text/plain": [
       "KMeans(max_iter=100, n_clusters=3, random_state=42)"
      ]
     },
     "execution_count": 34,
     "metadata": {},
     "output_type": "execute_result"
    }
   ],
   "source": [
    "model.fit(X_test)"
   ]
  },
  {
   "cell_type": "markdown",
   "id": "e35c9d37",
   "metadata": {},
   "source": [
    "Вычислите средние значения price и CRIM в разных кластерах на тестовых данных."
   ]
  },
  {
   "cell_type": "markdown",
   "id": "e1208e8e",
   "metadata": {},
   "source": [
    "Проэкспериментируем и сделаем это для данных без применения метода TSNE:"
   ]
  },
  {
   "cell_type": "code",
   "execution_count": 35,
   "id": "e969ced3",
   "metadata": {},
   "outputs": [],
   "source": [
    "test_labels_noTSNE = model.fit_predict(X_test)"
   ]
  },
  {
   "cell_type": "code",
   "execution_count": 36,
   "id": "f57edb34",
   "metadata": {},
   "outputs": [
    {
     "data": {
      "text/plain": [
       "price    23.911594\n",
       "dtype: float64"
      ]
     },
     "execution_count": 36,
     "metadata": {},
     "output_type": "execute_result"
    }
   ],
   "source": [
    "y_test[test_labels_noTSNE == 0].mean()"
   ]
  },
  {
   "cell_type": "code",
   "execution_count": 37,
   "id": "c544c5b0",
   "metadata": {},
   "outputs": [],
   "source": [
    "train_labels_noTSNE = model.fit_predict(X_train)"
   ]
  },
  {
   "cell_type": "code",
   "execution_count": 38,
   "id": "7f067448",
   "metadata": {},
   "outputs": [
    {
     "data": {
      "text/plain": [
       "price    25.168687\n",
       "dtype: float64"
      ]
     },
     "execution_count": 38,
     "metadata": {},
     "output_type": "execute_result"
    }
   ],
   "source": [
    "y_train[train_labels_noTSNE == 0].mean()"
   ]
  },
  {
   "cell_type": "markdown",
   "id": "572f6189",
   "metadata": {},
   "source": [
    "Средние значения довольно сильно расходятся: 25.168687 - на тренировочной выборке и 23.911594 - на тестовой"
   ]
  },
  {
   "cell_type": "markdown",
   "id": "3092fcf3",
   "metadata": {},
   "source": [
    "Применим к тестовой выборке метод TSNE:"
   ]
  },
  {
   "cell_type": "code",
   "execution_count": 39,
   "id": "426d8e31",
   "metadata": {},
   "outputs": [],
   "source": [
    "X_test_scaled = scaler.fit_transform(X_test)\n",
    "X_test_scaled = pd.DataFrame(X_test_scaled, columns = feature_names)"
   ]
  },
  {
   "cell_type": "code",
   "execution_count": 40,
   "id": "3f885526",
   "metadata": {},
   "outputs": [],
   "source": [
    "tsne = TSNE(n_components=2, learning_rate=250, random_state=42)\n",
    "X_test_tsne = tsne.fit_transform(X_test_scaled)"
   ]
  },
  {
   "cell_type": "code",
   "execution_count": 41,
   "id": "7f9fc460",
   "metadata": {},
   "outputs": [],
   "source": [
    "test_labels_TSNE = model.fit_predict(X_test_tsne)"
   ]
  },
  {
   "cell_type": "code",
   "execution_count": 42,
   "id": "894bb2aa",
   "metadata": {},
   "outputs": [
    {
     "data": {
      "text/plain": [
       "price    26.980556\n",
       "dtype: float64"
      ]
     },
     "execution_count": 42,
     "metadata": {},
     "output_type": "execute_result"
    }
   ],
   "source": [
    "y_test[test_labels_TSNE == 0].mean()"
   ]
  },
  {
   "cell_type": "markdown",
   "id": "4b7f1f42",
   "metadata": {},
   "source": [
    "Теперь значения ближе: обучение дает 26.564706, тест дает 26.980556"
   ]
  },
  {
   "cell_type": "markdown",
   "id": "282ec03d",
   "metadata": {},
   "source": [
    "Оценим среднее значение цен остальных кластерах.\n",
    "В кластере \"1\" на тренировочных данных значение было 16.277228"
   ]
  },
  {
   "cell_type": "code",
   "execution_count": 43,
   "id": "db064e3b",
   "metadata": {},
   "outputs": [
    {
     "data": {
      "text/plain": [
       "price    16.525\n",
       "dtype: float64"
      ]
     },
     "execution_count": 43,
     "metadata": {},
     "output_type": "execute_result"
    }
   ],
   "source": [
    "y_test[test_labels_TSNE == 1].mean()"
   ]
  },
  {
   "cell_type": "markdown",
   "id": "401b1d95",
   "metadata": {},
   "source": [
    "В кластере \"2\" на тренировочных данных значение было 23.670659"
   ]
  },
  {
   "cell_type": "code",
   "execution_count": 44,
   "id": "2ea73434",
   "metadata": {
    "scrolled": true
   },
   "outputs": [
    {
     "data": {
      "text/plain": [
       "price    20.853333\n",
       "dtype: float64"
      ]
     },
     "execution_count": 44,
     "metadata": {},
     "output_type": "execute_result"
    }
   ],
   "source": [
    "y_test[test_labels_TSNE == 2].mean()"
   ]
  },
  {
   "cell_type": "markdown",
   "id": "62af9678",
   "metadata": {},
   "source": [
    "Соберем данные в таблицу для разных вариантов: с обработской по методу TSNE и без TSNE"
   ]
  },
  {
   "cell_type": "code",
   "execution_count": 45,
   "id": "8ee88c68",
   "metadata": {},
   "outputs": [],
   "source": [
    "train_labels_noTSNE = model.fit_predict(X_train)"
   ]
  },
  {
   "cell_type": "code",
   "execution_count": 46,
   "id": "73407816",
   "metadata": {},
   "outputs": [
    {
     "data": {
      "text/html": [
       "<div>\n",
       "<style scoped>\n",
       "    .dataframe tbody tr th:only-of-type {\n",
       "        vertical-align: middle;\n",
       "    }\n",
       "\n",
       "    .dataframe tbody tr th {\n",
       "        vertical-align: top;\n",
       "    }\n",
       "\n",
       "    .dataframe thead th {\n",
       "        text-align: right;\n",
       "    }\n",
       "</style>\n",
       "<table border=\"1\" class=\"dataframe\">\n",
       "  <thead>\n",
       "    <tr style=\"text-align: right;\">\n",
       "      <th></th>\n",
       "      <th>clasters</th>\n",
       "      <th>price_mean_noTSNE_train</th>\n",
       "      <th>price_mean_noTSNE_test</th>\n",
       "      <th>price_mean_TSNE_train</th>\n",
       "      <th>price_mean_TSNE_test</th>\n",
       "    </tr>\n",
       "  </thead>\n",
       "  <tbody>\n",
       "    <tr>\n",
       "      <th>0</th>\n",
       "      <td>0</td>\n",
       "      <td>25.168687</td>\n",
       "      <td>23.911594</td>\n",
       "      <td>26.564706</td>\n",
       "      <td>26.980556</td>\n",
       "    </tr>\n",
       "    <tr>\n",
       "      <th>1</th>\n",
       "      <td>1</td>\n",
       "      <td>17.442105</td>\n",
       "      <td>17.392308</td>\n",
       "      <td>16.277228</td>\n",
       "      <td>16.525000</td>\n",
       "    </tr>\n",
       "    <tr>\n",
       "      <th>2</th>\n",
       "      <td>2</td>\n",
       "      <td>13.196774</td>\n",
       "      <td>12.814286</td>\n",
       "      <td>23.670659</td>\n",
       "      <td>20.853333</td>\n",
       "    </tr>\n",
       "  </tbody>\n",
       "</table>\n",
       "</div>"
      ],
      "text/plain": [
       "   clasters  price_mean_noTSNE_train  price_mean_noTSNE_test  \\\n",
       "0         0                25.168687               23.911594   \n",
       "1         1                17.442105               17.392308   \n",
       "2         2                13.196774               12.814286   \n",
       "\n",
       "   price_mean_TSNE_train  price_mean_TSNE_test  \n",
       "0              26.564706             26.980556  \n",
       "1              16.277228             16.525000  \n",
       "2              23.670659             20.853333  "
      ]
     },
     "execution_count": 46,
     "metadata": {},
     "output_type": "execute_result"
    }
   ],
   "source": [
    "clasters = []\n",
    "price_mean_noTSNE_train = []\n",
    "price_mean_noTSNE_test = []\n",
    "price_mean_TSNE_train = []\n",
    "price_mean_TSNE_test = []\n",
    "\n",
    "for i in range(3):\n",
    "    clasters.append(i)\n",
    "    price_mean_noTSNE_train.append(y_train[train_labels_noTSNE == i].mean()['price'])\n",
    "    price_mean_noTSNE_test.append(y_test[test_labels_noTSNE == i].mean()['price'])\n",
    "    price_mean_TSNE_train.append(y_train[train_labels_TSNE == i].mean()['price'])\n",
    "    price_mean_TSNE_test.append(y_test[test_labels_TSNE == i].mean()['price'])\n",
    "    \n",
    "table_mean_price = pd.DataFrame({\"clasters\": clasters, \n",
    "                           \"price_mean_noTSNE_train\": price_mean_noTSNE_train,\n",
    "                           \"price_mean_noTSNE_test\": price_mean_noTSNE_test,\n",
    "                           \"price_mean_TSNE_train\": price_mean_TSNE_train,\n",
    "                           \"price_mean_TSNE_test\": price_mean_TSNE_test         \n",
    "                          })\n",
    "table_mean_price"
   ]
  },
  {
   "cell_type": "code",
   "execution_count": 47,
   "id": "fbbfeff2",
   "metadata": {},
   "outputs": [
    {
     "data": {
      "text/html": [
       "<div>\n",
       "<style scoped>\n",
       "    .dataframe tbody tr th:only-of-type {\n",
       "        vertical-align: middle;\n",
       "    }\n",
       "\n",
       "    .dataframe tbody tr th {\n",
       "        vertical-align: top;\n",
       "    }\n",
       "\n",
       "    .dataframe thead th {\n",
       "        text-align: right;\n",
       "    }\n",
       "</style>\n",
       "<table border=\"1\" class=\"dataframe\">\n",
       "  <thead>\n",
       "    <tr style=\"text-align: right;\">\n",
       "      <th></th>\n",
       "      <th>clasters</th>\n",
       "      <th>CRIM_mean_noTSNE_train</th>\n",
       "      <th>CRIM_mean_noTSNE_test</th>\n",
       "      <th>CRIM_mean_TSNE_train</th>\n",
       "      <th>CRIM_mean_TSNE_test</th>\n",
       "    </tr>\n",
       "  </thead>\n",
       "  <tbody>\n",
       "    <tr>\n",
       "      <th>0</th>\n",
       "      <td>0</td>\n",
       "      <td>0.404863</td>\n",
       "      <td>0.246421</td>\n",
       "      <td>0.094623</td>\n",
       "      <td>0.110549</td>\n",
       "    </tr>\n",
       "    <tr>\n",
       "      <th>1</th>\n",
       "      <td>1</td>\n",
       "      <td>11.745662</td>\n",
       "      <td>8.469302</td>\n",
       "      <td>13.179822</td>\n",
       "      <td>9.916293</td>\n",
       "    </tr>\n",
       "    <tr>\n",
       "      <th>2</th>\n",
       "      <td>2</td>\n",
       "      <td>14.360380</td>\n",
       "      <td>19.021666</td>\n",
       "      <td>0.682968</td>\n",
       "      <td>0.313010</td>\n",
       "    </tr>\n",
       "  </tbody>\n",
       "</table>\n",
       "</div>"
      ],
      "text/plain": [
       "   clasters  CRIM_mean_noTSNE_train  CRIM_mean_noTSNE_test  \\\n",
       "0         0                0.404863               0.246421   \n",
       "1         1               11.745662               8.469302   \n",
       "2         2               14.360380              19.021666   \n",
       "\n",
       "   CRIM_mean_TSNE_train  CRIM_mean_TSNE_test  \n",
       "0              0.094623             0.110549  \n",
       "1             13.179822             9.916293  \n",
       "2              0.682968             0.313010  "
      ]
     },
     "execution_count": 47,
     "metadata": {},
     "output_type": "execute_result"
    }
   ],
   "source": [
    "clasters = []\n",
    "CRIM_mean_noTSNE_train = []\n",
    "CRIM_mean_noTSNE_test = []\n",
    "CRIM_mean_TSNE_train = []\n",
    "CRIM_mean_TSNE_test = []\n",
    "\n",
    "for i in range(3):\n",
    "    clasters.append(i)\n",
    "    CRIM_mean_noTSNE_train.append(X_train['CRIM'][train_labels_noTSNE == i].mean())\n",
    "    CRIM_mean_noTSNE_test.append(X_test['CRIM'][test_labels_noTSNE == i].mean())\n",
    "    CRIM_mean_TSNE_train.append(X_train['CRIM'][train_labels_TSNE == i].mean())\n",
    "    CRIM_mean_TSNE_test.append(X_test['CRIM'][test_labels_TSNE == i].mean())\n",
    "    \n",
    "table_mean_CRIM = pd.DataFrame({\"clasters\": clasters, \n",
    "                           \"CRIM_mean_noTSNE_train\": CRIM_mean_noTSNE_train,\n",
    "                           \"CRIM_mean_noTSNE_test\": CRIM_mean_noTSNE_test,\n",
    "                           \"CRIM_mean_TSNE_train\": CRIM_mean_TSNE_train,\n",
    "                           \"CRIM_mean_TSNE_test\": CRIM_mean_TSNE_test                          \n",
    "                          })\n",
    "table_mean_CRIM"
   ]
  },
  {
   "cell_type": "markdown",
   "id": "ffef2d5a",
   "metadata": {},
   "source": [
    "Посмотрим на график цен без использования метода TSNE. "
   ]
  },
  {
   "cell_type": "code",
   "execution_count": 51,
   "id": "948e82f9",
   "metadata": {},
   "outputs": [
    {
     "data": {
      "image/png": "[encoded data removed]",
      "text/plain": [
       "<Figure size 432x288 with 1 Axes>"
      ]
     },
     "metadata": {
      "needs_background": "light"
     },
     "output_type": "display_data"
    }
   ],
   "source": [
    "plt.hist(y_train[train_labels_noTSNE == 0], bins=20, density=True, alpha=0.5)\n",
    "plt.hist(y_train[train_labels_noTSNE == 1], bins=20, density=True, alpha=0.5)\n",
    "plt.hist(y_train[train_labels_noTSNE == 2], bins=20, density=True, alpha=0.5)\n",
    "plt.legend(['Кластер 0', 'Кластер 1', 'Кластер 2' ])\n",
    "plt.xlabel('Цена')\n",
    "plt.show()"
   ]
  },
  {
   "cell_type": "markdown",
   "id": "88c6fa0f",
   "metadata": {},
   "source": [
    "С методом TSNE результаты выглядят получше. Но данные во 2-м кластере \"гуляют\"."
   ]
  },
  {
   "cell_type": "code",
   "execution_count": null,
   "id": "1e03f0a8",
   "metadata": {},
   "outputs": [],
   "source": []
  }
 ],
 "metadata": {
  "kernelspec": {
   "display_name": "Python 3 (ipykernel)",
   "language": "python",
   "name": "python3"
  },
  "language_info": {
   "codemirror_mode": {
    "name": "ipython",
    "version": 3
   },
   "file_extension": ".py",
   "mimetype": "text/x-python",
   "name": "python",
   "nbconvert_exporter": "python",
   "pygments_lexer": "ipython3",
   "version": "3.9.7"
  }
 },
 "nbformat": 4,
 "nbformat_minor": 5
}
